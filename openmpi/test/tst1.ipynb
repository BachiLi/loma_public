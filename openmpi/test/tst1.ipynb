{
 "cells": [
  {
   "cell_type": "code",
   "execution_count": 1,
   "metadata": {},
   "outputs": [
    {
     "name": "stdout",
     "output_type": "stream",
     "text": [
      "hiiiiiiiii\n",
      "Value 5.000000 dval: 0.500000\n",
      "Rank 0. d_identity Output - val: 11.000000 dval: 2.000000\n",
      "Parent received response from child process with rank 11.000000\n",
      "Parent received response from child process with rank 11.000000\n",
      "Value 5.000000 dval: 0.500000\n",
      "Rank 1. d_identity Output - val: 11.000000 dval: 2.000000\n",
      "11.0 2.0 11.0 2.0\n"
     ]
    },
    {
     "name": "stderr",
     "output_type": "stream",
     "text": [
      "[Jash-MacBook-Pro.local:84150] shmem: mmap: an error occurred while determining whether or not /var/folders/k2/zx5hxxcx3r12b7sns701tkmw0000gn/T//ompi.Jash-MacBook-Pro.501/jf.0/3752853504/sm_segment.Jash-MacBook-Pro.501.dfb00000.0 could be created.\n"
     ]
    }
   ],
   "source": [
    "import ctypes\n",
    "# Load the DLL\n",
    "example_dll = ctypes.CDLL('./parent_process.dll')\n",
    "# py_y = [0] * 2\n",
    "# out = (ctypes.c_int * len(py_y))(*py_y)\n",
    "print(\"hiiiiiiiii\")\n",
    "class _dfloat(ctypes.Structure):\n",
    "    _fields_ = [\n",
    "        (\"val\", ctypes.c_float),\n",
    "        (\"dval\", ctypes.c_float)\n",
    "    ]\n",
    "\n",
    "py_y = [_dfloat(0, 0)] * 2\n",
    "out = (_dfloat * len(py_y))(*py_y)\n",
    "x = _dfloat(5.0, 0.5)\n",
    "y = _dfloat(6.0, 1.5)\n",
    "px_x = [x,y]\n",
    "input = (_dfloat * len(px_x))(*px_x)\n",
    "# Call the main function\n",
    "example_dll.mpi_runner(2, input,2, out)\n",
    "print(out[0].val, out[0].dval, out[1].val, out[1].dval)"
   ]
  },
  {
   "cell_type": "code",
   "execution_count": 1,
   "metadata": {},
   "outputs": [
    {
     "name": "stdout",
     "output_type": "stream",
     "text": [
      "hiiiiiiiii\n"
     ]
    },
    {
     "name": "stderr",
     "output_type": "stream",
     "text": [
      "[Jash-MacBook-Pro.local:06200] shmem: mmap: an error occurred while determining whether or not /var/folders/k2/zx5hxxcx3r12b7sns701tkmw0000gn/T//ompi.Jash-MacBook-Pro.501/jf.0/2032599040/sm_segment.Jash-MacBook-Pro.501.79270000.0 could be created.\n"
     ]
    },
    {
     "name": "stdout",
     "output_type": "stream",
     "text": [
      "Rank 0. d_identity Output - val: 1.000000 dval: 1.300000\n",
      "Parent received response from child process with rank 1.000000\n",
      "Parent received response from child process with rank 1.000000\n",
      "Rank 1. d_identity Output - val: 1.000000 dval: 1.300000\n",
      "1.0 1.2999999523162842\n",
      "1.0 1.2999999523162842\n"
     ]
    }
   ],
   "source": [
    "import ctypes\n",
    "# Load the DLL\n",
    "example_dll = ctypes.CDLL('./parent_process.dll')\n",
    "# py_y = [0] * 2\n",
    "# out = (ctypes.c_int * len(py_y))(*py_y)\n",
    "print(\"hiiiiiiiii\")\n",
    "class _dfloat(ctypes.Structure):\n",
    "    _fields_ = [\n",
    "        (\"val\", ctypes.c_float),\n",
    "        (\"dval\", ctypes.c_float)\n",
    "    ]\n",
    "\n",
    "py_y = [_dfloat(0, 0)] * 2\n",
    "out = (_dfloat * len(py_y))(*py_y)\n",
    "py_x = [_dfloat(0.7, 0.8), _dfloat(0.3, 0.5)]\n",
    "input = (_dfloat * len(py_x))(*py_x)\n",
    "# Call the main function\n",
    "example_dll.mpi_runner(2, input,2, out)\n",
    "for i in range(2):\n",
    "    print(out[i].val,out[i].dval)\n",
    "    assert abs(out[i].val - (0.7 + 0.3)) < 1e-4 and abs(out[i].dval - (0.8 + 0.5)) < 1e-4"
   ]
  },
  {
   "cell_type": "code",
   "execution_count": null,
   "metadata": {},
   "outputs": [
    {
     "name": "stdout",
     "output_type": "stream",
     "text": [
      "hiiiiiiiii\n"
     ]
    },
    {
     "ename": "",
     "evalue": "",
     "output_type": "error",
     "traceback": [
      "\u001b[1;31mThe Kernel crashed while executing code in the current cell or a previous cell. \n",
      "\u001b[1;31mPlease review the code in the cell(s) to identify a possible cause of the failure. \n",
      "\u001b[1;31mClick <a href='https://aka.ms/vscodeJupyterKernelCrash'>here</a> for more info. \n",
      "\u001b[1;31mView Jupyter <a href='command:jupyter.viewOutput'>log</a> for further details."
     ]
    }
   ],
   "source": [
    "import ctypes\n",
    "# Load the DLL\n",
    "example_dll = ctypes.CDLL('/Users/jashmakhija/UCSD/Spring_2024/Differentiable_programming/Project/loma_public/hw_tests/project/_code/assign.so')\n",
    "# py_y = [0] * 2\n",
    "# out = (ctypes.c_int * len(py_y))(*py_y)\n",
    "print(\"hiiiiiiiii\")\n",
    "class _dfloat(ctypes.Structure):\n",
    "    _fields_ = [\n",
    "        (\"val\", ctypes.c_float),\n",
    "        (\"dval\", ctypes.c_float)\n",
    "    ]\n",
    "\n",
    "py_y = [_dfloat(0, 0)] * 2\n",
    "out = (_dfloat * len(py_y))(*py_y)\n",
    "py_x = [_dfloat(0.7, 0.8), _dfloat(0.3, 0.5)]\n",
    "input = (_dfloat * len(py_x))(*py_x)\n",
    "# Call the main function\n",
    "example_dll.mpi_runner(2, input,2, out)\n",
    "for i in range(2):\n",
    "    print(out[i].val,out[i].dval)\n",
    "    assert abs(out[i].val - (0.7 + 0.3)) < 1e-4 and abs(out[i].dval - (0.8 + 0.5)) < 1e-4"
   ]
  },
  {
   "cell_type": "code",
   "execution_count": 1,
   "metadata": {},
   "outputs": [
    {
     "name": "stdout",
     "output_type": "stream",
     "text": [
      "hiiiiiiiii\n"
     ]
    },
    {
     "name": "stderr",
     "output_type": "stream",
     "text": [
      "[Jash-MacBook-Pro.local:14114] shmem: mmap: an error occurred while determining whether or not /var/folders/k2/zx5hxxcx3r12b7sns701tkmw0000gn/T//ompi.Jash-MacBook-Pro.501/jf.0/1238695936/sm_segment.Jash-MacBook-Pro.501.49d50000.0 could be created.\n"
     ]
    },
    {
     "name": "stdout",
     "output_type": "stream",
     "text": [
      "Rank 0. d_identity Output - val: 1.000000 dval: 1.300000\n",
      "Parent received response from child process with rank 1.000000\n",
      "Parent received response from child process with rank 1.000000\n",
      "Rank 1. d_identity Output - val: 1.000000 dval: 1.300000\n",
      "1.0 1.2999999523162842\n",
      "1.0 1.2999999523162842\n"
     ]
    }
   ],
   "source": [
    "import ctypes\n",
    "# Load the DLL\n",
    "example_dll = ctypes.CDLL('./parent_process.dll')\n",
    "# py_y = [0] * 2\n",
    "# out = (ctypes.c_int * len(py_y))(*py_y)\n",
    "print(\"hiiiiiiiii\")\n",
    "class _dfloat(ctypes.Structure):\n",
    "    _fields_ = [\n",
    "        (\"val\", ctypes.c_float),\n",
    "        (\"dval\", ctypes.c_float)\n",
    "    ]\n",
    "\n",
    "py_y = [_dfloat(0, 0)] * 2\n",
    "out = (_dfloat * len(py_y))(*py_y)\n",
    "py_x = [_dfloat(0.7, 0.8), _dfloat(0.3, 0.5)]\n",
    "input = (_dfloat * len(py_x))(*py_x)\n",
    "# Call the main function\n",
    "example_dll.mpi_runner(2, input,2, out)\n",
    "for i in range(2):\n",
    "    print(out[i].val,out[i].dval)\n",
    "    assert abs(out[i].val - (0.7 + 0.3)) < 1e-4 and abs(out[i].dval - (0.8 + 0.5)) < 1e-4"
   ]
  },
  {
   "cell_type": "code",
   "execution_count": 2,
   "metadata": {},
   "outputs": [
    {
     "name": "stdout",
     "output_type": "stream",
     "text": [
      "hiiiiiiiii\n"
     ]
    },
    {
     "ename": "",
     "evalue": "",
     "output_type": "error",
     "traceback": [
      "\u001b[1;31mThe Kernel crashed while executing code in the current cell or a previous cell. \n",
      "\u001b[1;31mPlease review the code in the cell(s) to identify a possible cause of the failure. \n",
      "\u001b[1;31mClick <a href='https://aka.ms/vscodeJupyterKernelCrash'>here</a> for more info. \n",
      "\u001b[1;31mView Jupyter <a href='command:jupyter.viewOutput'>log</a> for further details."
     ]
    }
   ],
   "source": [
    "import ctypes\n",
    "# Load the DLL\n",
    "dll = ctypes.CDLL('/Users/jashmakhija/UCSD/Spring_2024/Differentiable_programming/Project/loma_public/hw_tests/project/_code/assign.dll')\n",
    "# py_y = [0] * 2\n",
    "# out = (ctypes.c_int * len(py_y))(*py_y)\n",
    "print(\"hiiiiiiiii\")\n",
    "class _dfloat(ctypes.Structure):\n",
    "    _fields_ = [\n",
    "        (\"val\", ctypes.c_float),\n",
    "        (\"dval\", ctypes.c_float)\n",
    "    ]\n",
    "\n",
    "py_y = [_dfloat(0, 0)] * 2\n",
    "out = (_dfloat * len(py_y))(*py_y)\n",
    "py_x = [_dfloat(0.7, 0.8), _dfloat(0.3, 0.5)]\n",
    "input = (_dfloat * len(py_x))(*py_x)\n",
    "# Call the main function\n",
    "dll.mpi_runner(2, input,2, out)\n",
    "for i in range(2):\n",
    "    print(out[i].val,out[i].dval)\n",
    "    assert abs(out[i].val - (0.7 + 0.3)) < 1e-4 and abs(out[i].dval - (0.8 + 0.5)) < 1e-4"
   ]
  },
  {
   "cell_type": "code",
   "execution_count": null,
   "metadata": {},
   "outputs": [],
   "source": []
  }
 ],
 "metadata": {
  "kernelspec": {
   "display_name": "loma",
   "language": "python",
   "name": "python3"
  },
  "language_info": {
   "codemirror_mode": {
    "name": "ipython",
    "version": 3
   },
   "file_extension": ".py",
   "mimetype": "text/x-python",
   "name": "python",
   "nbconvert_exporter": "python",
   "pygments_lexer": "ipython3",
   "version": "3.8.16"
  }
 },
 "nbformat": 4,
 "nbformat_minor": 2
}
