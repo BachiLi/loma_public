{
 "cells": [
  {
   "cell_type": "code",
   "execution_count": 1,
   "metadata": {},
   "outputs": [
    {
     "name": "stdout",
     "output_type": "stream",
     "text": [
      "Rank 0. d_identity Output - val: 2.000000 dval: 3.000000\n",
      "Parent received response from child process with rank 2.000000\n",
      "Parent received response from child process with rank 2.000000\n",
      "Rank 1. d_identity Output - val: 2.000000 dval: 3.000000\n",
      "2.0 3.0 2.0 3.0\n"
     ]
    }
   ],
   "source": [
    "import ctypes\n",
    "\n",
    "# Load the DLL\n",
    "example_dll = ctypes.CDLL('./parent_process.dll')\n",
    "# py_y = [0] * 2\n",
    "# out = (ctypes.c_int * len(py_y))(*py_y)\n",
    "\n",
    "class _dfloat(ctypes.Structure):\n",
    "    _fields_ = [\n",
    "        (\"val\", ctypes.c_float),\n",
    "        (\"dval\", ctypes.c_float)\n",
    "    ]\n",
    "\n",
    "py_y = [_dfloat(0, 0)] * 7\n",
    "out = (_dfloat * len(py_y))(*py_y)\n",
    "x = _dfloat(2, 3)\n",
    "# Call the main function\n",
    "example_dll.mpi_runner(2, x, out)\n",
    "print(out[0].val, out[0].dval, out[1].val, out[1].dval)"
   ]
  }
 ],
 "metadata": {
  "kernelspec": {
   "display_name": "loma",
   "language": "python",
   "name": "python3"
  },
  "language_info": {
   "codemirror_mode": {
    "name": "ipython",
    "version": 3
   },
   "file_extension": ".py",
   "mimetype": "text/x-python",
   "name": "python",
   "nbconvert_exporter": "python",
   "pygments_lexer": "ipython3",
   "version": "3.10.14"
  }
 },
 "nbformat": 4,
 "nbformat_minor": 2
}
